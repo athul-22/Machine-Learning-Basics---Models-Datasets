{
 "cells": [
  {
   "cell_type": "code",
   "execution_count": null,
   "metadata": {},
   "outputs": [],
   "source": [
    "#LABEL ENCODING \n",
    "#CONVET LABELS INTO NUERIC FORM"
   ]
  },
  {
   "cell_type": "code",
   "execution_count": null,
   "metadata": {},
   "outputs": [],
   "source": [
    "import pandas as pd\n",
    "from sklearn.preprocessing import LabelEncoder\n",
    "\n",
    "#import data\n",
    "#label_encoded = LabelEncoder()\n",
    "\n",
    "#labels = label_encode.fit_transform(cancer_data.diagonis)\n",
    "\n",
    "#apending the labels to the data frame \n",
    "\n"
   ]
  }
 ],
 "metadata": {
  "language_info": {
   "name": "python"
  }
 },
 "nbformat": 4,
 "nbformat_minor": 2
}
