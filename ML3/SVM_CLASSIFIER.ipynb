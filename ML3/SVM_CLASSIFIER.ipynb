{
 "cells": [
  {
   "cell_type": "code",
   "execution_count": 1,
   "metadata": {},
   "outputs": [],
   "source": [
    " import numpy as np"
   ]
  },
  {
   "cell_type": "code",
   "execution_count": 3,
   "metadata": {},
   "outputs": [
    {
     "ename": "IndentationError",
     "evalue": "expected an indented block after function definition on line 8 (2154853018.py, line 11)",
     "output_type": "error",
     "traceback": [
      "\u001b[0;36m  Cell \u001b[0;32mIn[3], line 11\u001b[0;36m\u001b[0m\n\u001b[0;31m    def update_weight(self):\u001b[0m\n\u001b[0m    ^\u001b[0m\n\u001b[0;31mIndentationError\u001b[0m\u001b[0;31m:\u001b[0m expected an indented block after function definition on line 8\n"
     ]
    }
   ],
   "source": [
    "class SVM_CLASSIFIER():\n",
    "    #INITIALIZATION OF HYPERPARATMETERS\n",
    "    def __init__(self,learning_rate,no_of_iterations,lambda_parameter):\n",
    "        self.learning_rate = learning_rate\n",
    "        self.no_of_iterations = no_of_iterations\n",
    "        self.lambda_parameter = lambda_parameter\n",
    "    #FITTING THE MODEL\n",
    "    def fit(self,x,y):\n",
    "        #m = no of samples\n",
    "        #n = no of features\n",
    "        self.m,self.n = x.shape\n",
    "        #Randomly initializing the weights and bias\n",
    "        self.weights = np.zeros(self.n)\n",
    "\n",
    "        self.bias = 0\n",
    "        #GRADIENT DESCENT\n",
    "        \n",
    "\n",
    "\n",
    "    #UPDATE THE PARAMERTS    \n",
    "    def update_weight(self):  \n",
    "\n",
    "    #FINALLY PREDCIT THE OUTPUT      \n",
    "    def predict(self):        "
   ]
  },
  {
   "cell_type": "code",
   "execution_count": 2,
   "metadata": {},
   "outputs": [
    {
     "ename": "NameError",
     "evalue": "name 'SVM_CLASSIFIER' is not defined",
     "output_type": "error",
     "traceback": [
      "\u001b[0;31m---------------------------------------------------------------------------\u001b[0m",
      "\u001b[0;31mNameError\u001b[0m                                 Traceback (most recent call last)",
      "Cell \u001b[0;32mIn[2], line 1\u001b[0m\n\u001b[0;32m----> 1\u001b[0m model \u001b[38;5;241m=\u001b[39m SVM_CLASSIFIER(learning_rate\u001b[38;5;241m=\u001b[39m\u001b[38;5;241m0.001\u001b[39m,no_of_iterations\u001b[38;5;241m=\u001b[39m\u001b[38;5;241m1000\u001b[39m,lambda_parameter\u001b[38;5;241m=\u001b[39m\u001b[38;5;241m0.01\u001b[39m)\n",
      "\u001b[0;31mNameError\u001b[0m: name 'SVM_CLASSIFIER' is not defined"
     ]
    }
   ],
   "source": [
    "model = SVM_CLASSIFIER(learning_rate=0.001,no_of_iterations=1000,lambda_parameter=0.01)"
   ]
  }
 ],
 "metadata": {
  "kernelspec": {
   "display_name": "base",
   "language": "python",
   "name": "python3"
  },
  "language_info": {
   "codemirror_mode": {
    "name": "ipython",
    "version": 3
   },
   "file_extension": ".py",
   "mimetype": "text/x-python",
   "name": "python",
   "nbconvert_exporter": "python",
   "pygments_lexer": "ipython3",
   "version": "3.11.3"
  }
 },
 "nbformat": 4,
 "nbformat_minor": 2
}
