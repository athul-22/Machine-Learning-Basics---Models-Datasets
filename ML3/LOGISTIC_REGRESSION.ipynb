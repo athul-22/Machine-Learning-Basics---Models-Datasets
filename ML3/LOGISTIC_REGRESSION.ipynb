{
 "cells": [
  {
   "cell_type": "markdown",
   "metadata": {},
   "source": [
    "Step 1: Set Learning Rate & Number of Iterations; Initiate Random weight and bias value.\n",
    "Step 2: Build Logistic Regression Function. (sigmoid function)\n",
    "Step 3: Update the parameters using gradient descent\n",
    "Finally we will get the best model (best weight and bias value) as it has minimum cost function.\n",
    "step 4: build the \"predict\" function to determine the class of the data point."
   ]
  },
  {
   "cell_type": "code",
   "execution_count": 1,
   "metadata": {},
   "outputs": [],
   "source": [
    "#IMPORT NUMPY\n",
    "import numpy as np"
   ]
  },
  {
   "cell_type": "code",
   "execution_count": 1,
   "metadata": {},
   "outputs": [],
   "source": [
    "class Logistic_Regression():\n",
    "    #DECLARING NUMBER OF LEARING RATE AND NUMBER OF ITERATIONS (HYOPERPARAMETERS)\n",
    "    def __init__(self,learnign_rate,no_of_iterations):\n",
    "        self.learnign_rate = learnign_rate\n",
    "        self.no_of_iterations = no_of_iterations\n",
    "        # self.weights = None\n",
    "        # self.bias = None\n",
    "\n",
    "    #TO TRAIN THE MODEL WITH DATASET\n",
    "    def fit(self,x,y):\n",
    "        #NUMBER OF DATA POINTS - ROWS\n",
    "        #NUMBER OF FEATURES - COLUMNS\n",
    "        #M AND N = COL AND ROWS\n",
    "        self.m,self.n = x.shape\n",
    "\n",
    "        #INITIALIZING WEIGHT AND BIAS VALUES\n",
    "        \n",
    "        self.w = np.zeros(self.n)\n",
    "\n",
    "        self.b = 0\n",
    "        self.x = x\n",
    "        self.y = y\n",
    "\n",
    "        #IMPLEMENTING GRADIENT DESCENT FOR WEIGHTS AND BIAS\n",
    "        # OPTIMIZATION\n",
    "\n",
    "        for i in range(self.no_of_iterations):\n",
    "            self.update_weights()\n",
    "\n",
    "    def update_weights(self):\n",
    "        #Y_CAP FORMULA SIGMOID FUNCTION\n",
    "\n",
    "        y_cap = 1 / (1+np.exp(-(self.x.dot(self.w)+self.b)))\n",
    "\n",
    "        #DERIVATIVES\n",
    "        #DERIVATIVE OF WEIGHTS\n",
    "        dw = (1/self.m)*(self.x.T.dot(y_cap-self.y))\n",
    "        #DERIVATIVE OF BIAS\n",
    "        db = (1/self.m)*(np.sum(y_cap-self.y))\n",
    "\n",
    "        #UPDATING WEIGHTS AND BIAS USING GRADIENT DESCENT\n",
    "        self.w = self.w - self.learnign_rate*dw\n",
    "\n",
    "        self.b = self.b - self.learnign_rate*db\n",
    "    \n",
    "    #PREDICT CLASS LABELS\n",
    "    #WRITING THE SIGMOID EUQATION\n",
    "    #IF Y_CAP > 0.5 THEN 1 ELSE 0\n",
    "    def predict(self):\n",
    "        y_pred = 1 / (1+np.exp(-(self.x.dot(self.w)+self.b)))\n",
    "        y_pred_labels = [1 if i > 0.5 else 0 for i in y_pred]\n",
    "        return y_pred_labels\n"
   ]
  },
  {
   "cell_type": "code",
   "execution_count": 2,
   "metadata": {},
   "outputs": [],
   "source": [
    "model = Logistic_Regression(learnign_rate=0.01,no_of_iterations=1000)"
   ]
  }
 ],
 "metadata": {
  "kernelspec": {
   "display_name": "base",
   "language": "python",
   "name": "python3"
  },
  "language_info": {
   "codemirror_mode": {
    "name": "ipython",
    "version": 3
   },
   "file_extension": ".py",
   "mimetype": "text/x-python",
   "name": "python",
   "nbconvert_exporter": "python",
   "pygments_lexer": "ipython3",
   "version": "3.11.3"
  }
 },
 "nbformat": 4,
 "nbformat_minor": 2
}
