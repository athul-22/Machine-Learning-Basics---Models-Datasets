{
 "cells": [
  {
   "cell_type": "code",
   "execution_count": 97,
   "metadata": {},
   "outputs": [],
   "source": [
    "import numpy as np\n"
   ]
  },
  {
   "cell_type": "markdown",
   "metadata": {},
   "source": [
    "Linear Regression:\n",
    "\n",
    "Y = wX + b\n",
    "\n",
    "Y --> Dependent Variable\n",
    "\n",
    "X --> Independent Variable\n",
    "\n",
    "w --> weight\n",
    "\n",
    "b --> bias\n",
    "\n",
    "Gradient Descent:\n",
    "\n",
    "Gradient Descent is an optimization algorithm used for minimizing the loss function in various machine learning algorithms. It is used for updating the parameters of the learning model.\n",
    "\n",
    "w = w - α*dw\n",
    "\n",
    "b = b - α*db\n",
    "\n",
    "Learning Rate:\n",
    "\n",
    "Learning rate is a tuning parameter in an optimization algorithm that determines the step size at each iteration while moving toward a minimum of a loss function.\n",
    "\n"
   ]
  },
  {
   "cell_type": "code",
   "execution_count": 98,
   "metadata": {},
   "outputs": [],
   "source": [
    "class Linear_Regression:\n",
    "    #INITIATING THE PARAMETERS LEARNING RATE AND NUMBER OF ITERATIONS \n",
    "    def __init__(self,learning_rate,number_of_iterations):\n",
    "        self.learning_rate = learning_rate\n",
    "        self.number_of_iterations = number_of_iterations\n",
    "\n",
    "    #Calculate the gradient of the loss function\n",
    "        \n",
    "\n",
    "    def fit(self,X,Y):\n",
    "        #NUMBER OF TRAINING EXAMPLES AND NUMBER OF FEATURES\n",
    "        #FEATURES = COLUMNS TITLE....\n",
    "\n",
    "        #INITIALIZING THE WEIGHTS AND BIAS\n",
    "        self.m,self.n = X.shape #NUMBER OF ROWS AND COLUMNS \n",
    "\n",
    "        #ITERATING THE WEIGHT AND BIAS\n",
    "        self.w = np.zeros(self.n)\n",
    "\n",
    "        self.b = 0\n",
    "        self.X = X\n",
    "        self.Y = Y\n",
    "\n",
    "        #IMPLEMENTING GRADIENT DESCENT\n",
    "        for i in range(self.number_of_iterations):\n",
    "            self.update_weights()\n",
    "\n",
    "\n",
    "    def update_weights(self):\n",
    "        Y_prediction = self.predict()\n",
    "\n",
    "        #CALCULATE THE GRADIENT\n",
    "        dw = -(2 * (self.X.T).dot(self.Y - Y_prediction)) / self.m \n",
    "        db = -2 * np.sum(self.Y - Y_prediction) / self.m   \n",
    "\n",
    "        self.w = self.w - self.learning_rate * dw\n",
    "        self.b = self.b - self.learning_rate * db\n",
    "\n",
    "    def predict(self):\n",
    "        return self.X.dot(self.w) + self.b"
   ]
  },
  {
   "cell_type": "markdown",
   "metadata": {},
   "source": [
    "Work flow of the Linear Regression model:\n",
    "Step 1: Set Learning Rate & Number of Iterations; Initiate Random weight and bias value.\n",
    "Step 2: Build Linear Regression Equation. (y = wx + b)\n",
    "Step 3: Find the \"y pred\" value for given x value for the corresponding weight & bias.\n",
    "Step 4; Check the loss function for these parameter values, (difference between \"y pred\" & \"true y\"\n",
    "Step 5: Update the parameter values using Gradient Descent. (new weight & bias value)\n",
    "Step 6: Step 3, 4, 5 are repeated till we get minimum loss function\n",
    "Finally we will get the best model (best weight and bias value) as it has minimum loss function.\n"
   ]
  },
  {
   "cell_type": "code",
   "execution_count": 99,
   "metadata": {},
   "outputs": [],
   "source": [
    "#IMORTING DEPENDENCIES\n",
    "import pandas as pd\n",
    "from sklearn.model_selection import train_test_split\n",
    "import matplotlib.pyplot as plt"
   ]
  },
  {
   "cell_type": "code",
   "execution_count": 100,
   "metadata": {},
   "outputs": [],
   "source": [
    "salary_data  =pd.read_csv('/Users/athulnambiar/Desktop/PROJECTS/ML-YT/ML3/salary_data.csv')"
   ]
  },
  {
   "cell_type": "code",
   "execution_count": 101,
   "metadata": {},
   "outputs": [
    {
     "name": "stdout",
     "output_type": "stream",
     "text": [
      "<class 'pandas.core.frame.DataFrame'>\n",
      "RangeIndex: 30 entries, 0 to 29\n",
      "Data columns (total 2 columns):\n",
      " #   Column           Non-Null Count  Dtype  \n",
      "---  ------           --------------  -----  \n",
      " 0   YearsExperience  30 non-null     float64\n",
      " 1   Salary           30 non-null     int64  \n",
      "dtypes: float64(1), int64(1)\n",
      "memory usage: 612.0 bytes\n"
     ]
    },
    {
     "data": {
      "text/plain": [
       "YearsExperience    0\n",
       "Salary             0\n",
       "dtype: int64"
      ]
     },
     "execution_count": 101,
     "metadata": {},
     "output_type": "execute_result"
    }
   ],
   "source": [
    "salary_data.head()\n",
    "salary_data.info()\n",
    "salary_data.tail()\n",
    "salary_data.describe()\n",
    "salary_data.shape\n",
    "salary_data.isnull().sum()"
   ]
  },
  {
   "cell_type": "code",
   "execution_count": 102,
   "metadata": {},
   "outputs": [],
   "source": [
    "#SPLITING FEATURE AND TARGET VARIABLE\n",
    "x = salary_data.iloc[:,:-1].values\n",
    "y = salary_data.iloc[:,1].values\n"
   ]
  },
  {
   "cell_type": "code",
   "execution_count": 103,
   "metadata": {},
   "outputs": [],
   "source": [
    "x_train,x_test,y_train,y_test = train_test_split(x,y,test_size=0.33,random_state=2)"
   ]
  },
  {
   "cell_type": "markdown",
   "metadata": {},
   "source": [
    "TRAINING THE LINEAR REGRESSION MODEL"
   ]
  },
  {
   "cell_type": "code",
   "execution_count": 104,
   "metadata": {},
   "outputs": [],
   "source": [
    "model = Linear_Regression(learning_rate=0.02,number_of_iterations=1000)"
   ]
  },
  {
   "cell_type": "code",
   "execution_count": 105,
   "metadata": {},
   "outputs": [],
   "source": [
    "model.fit(x_train,y_train)"
   ]
  },
  {
   "cell_type": "code",
   "execution_count": 106,
   "metadata": {},
   "outputs": [
    {
     "name": "stdout",
     "output_type": "stream",
     "text": [
      "bias [9514.40099904] 23697.406507136307\n",
      "weights 9514.400999035135\n"
     ]
    }
   ],
   "source": [
    "print('bias',model.w,model.b)\n",
    "print('weights',model.w[0])\n"
   ]
  },
  {
   "cell_type": "markdown",
   "metadata": {},
   "source": [
    "y = 9514(x) + 23697\n",
    "y = salary\n",
    "x = years of experience"
   ]
  },
  {
   "cell_type": "code",
   "execution_count": 107,
   "metadata": {},
   "outputs": [
    {
     "name": "stdout",
     "output_type": "stream",
     "text": [
      "[ 51289.16940434 115035.65609787  61755.01050328  44629.08870501\n",
      "  60803.57040337  72220.85160222 121695.7367972  109327.01549845\n",
      "  74123.73180202  37969.00800569  54143.48970405 114084.21599797\n",
      " 106472.69519874  79832.37240144  61755.01050328  98861.17439951\n",
      " 123598.61699701  62706.45060318  70317.97140241  54143.48970405]\n"
     ]
    }
   ],
   "source": [
    "#PREDICTING THE SALARYFOR TEST DATA\n",
    "test_data_prediction = model.predict()\n",
    "print(test_data_prediction)\n"
   ]
  },
  {
   "cell_type": "code",
   "execution_count": 113,
   "metadata": {},
   "outputs": [
    {
     "data": {
      "text/plain": [
       "Text(0, 0.5, 'salary')"
      ]
     },
     "execution_count": 113,
     "metadata": {},
     "output_type": "execute_result"
    },
    {
     "data": {
      "image/png": "[encoded data removed]",
      "text/plain": [
       "<Figure size 640x480 with 1 Axes>"
      ]
     },
     "metadata": {},
     "output_type": "display_data"
    }
   ],
   "source": [
    "#VISUALIZING THE PREDICTED VALUES AND ACTUAL VALUES\n",
    "plt.plot(x_train,y_train,'b.')\n",
    "plt.scatter(x_test,y_test,color='red')\n",
    "plt.title(\"Salary vs experience\")\n",
    "plt.ylabel('salary')\n"
   ]
  }
 ],
 "metadata": {
  "kernelspec": {
   "display_name": "base",
   "language": "python",
   "name": "python3"
  },
  "language_info": {
   "codemirror_mode": {
    "name": "ipython",
    "version": 3
   },
   "file_extension": ".py",
   "mimetype": "text/x-python",
   "name": "python",
   "nbconvert_exporter": "python",
   "pygments_lexer": "ipython3",
   "version": "3.11.3"
  }
 },
 "nbformat": 4,
 "nbformat_minor": 2
}
