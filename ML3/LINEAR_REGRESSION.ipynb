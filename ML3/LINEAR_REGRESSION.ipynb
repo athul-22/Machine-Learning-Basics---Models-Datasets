{
 "cells": [
  {
   "cell_type": "code",
   "execution_count": 7,
   "metadata": {},
   "outputs": [],
   "source": [
    "import numpy as np\n"
   ]
  },
  {
   "cell_type": "markdown",
   "metadata": {},
   "source": [
    "Linear Regression:\n",
    "\n",
    "Y = wX + b\n",
    "\n",
    "Y --> Dependent Variable\n",
    "\n",
    "X --> Independent Variable\n",
    "\n",
    "w --> weight\n",
    "\n",
    "b --> bias\n",
    "\n",
    "Gradient Descent:\n",
    "\n",
    "Gradient Descent is an optimization algorithm used for minimizing the loss function in various machine learning algorithms. It is used for updating the parameters of the learning model.\n",
    "\n",
    "w = w - α*dw\n",
    "\n",
    "b = b - α*db\n",
    "\n",
    "Learning Rate:\n",
    "\n",
    "Learning rate is a tuning parameter in an optimization algorithm that determines the step size at each iteration while moving toward a minimum of a loss function.\n",
    "\n"
   ]
  },
  {
   "cell_type": "code",
   "execution_count": 8,
   "metadata": {},
   "outputs": [],
   "source": [
    "class Linear_Regression:\n",
    "    #INITIATING THE PARAMETERS LEARNING RATE AND NUMBER OF ITERATIONS \n",
    "    def __init__(self,learning_rate,number_of_iterations):\n",
    "        self.learning_rate = learning_rate\n",
    "        self.number_of_iterations = number_of_iterations\n",
    "\n",
    "    #Calculate the gradient of the loss function\n",
    "        \n",
    "\n",
    "    def fit(self,X,Y):\n",
    "        #NUMBER OF TRAINING EXAMPLES AND NUMBER OF FEATURES\n",
    "        #FEATURES = COLUMNS TITLE....\n",
    "\n",
    "        #INITIALIZING THE WEIGHTS AND BIAS\n",
    "        self.m,self.n = X.shape #NUMBER OF ROWS AND COLUMNS \n",
    "\n",
    "        #ITERATING THE WEIGHT AND BIAS\n",
    "        self.w = np.zeros(self.n)\n",
    "\n",
    "        self.b = 0\n",
    "        self.X = X\n",
    "        self.Y = Y\n",
    "\n",
    "        #IMPLEMENTING GRADIENT DESCENT\n",
    "        for i in range(self.number_of_iterations):\n",
    "            self.update_weights()\n",
    "\n",
    "\n",
    "    def update_weights(self):\n",
    "        Y_prediction = self.predict()\n",
    "\n",
    "        #CALCULATE THE GRADIENT\n",
    "        dw = -(2 * (self.X.T).dot(self.Y - Y_prediction)) / self.m \n",
    "        db = -2 * np.sum(self.Y - Y_prediction) / self.m   \n",
    "\n",
    "        self.w = self.w - self.learning_rate * dw\n",
    "        self.b = self.b - self.learning_rate * db\n",
    "\n",
    "    def predict(self):      \n",
    "        return x.dot(self.w) + self.b"
   ]
  }
 ],
 "metadata": {
  "kernelspec": {
   "display_name": "base",
   "language": "python",
   "name": "python3"
  },
  "language_info": {
   "codemirror_mode": {
    "name": "ipython",
    "version": 3
   },
   "file_extension": ".py",
   "mimetype": "text/x-python",
   "name": "python",
   "nbconvert_exporter": "python",
   "pygments_lexer": "ipython3",
   "version": "3.11.3"
  }
 },
 "nbformat": 4,
 "nbformat_minor": 2
}
